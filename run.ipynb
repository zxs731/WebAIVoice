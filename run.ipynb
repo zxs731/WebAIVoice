{
 "cells": [
  {
   "cell_type": "code",
   "execution_count": null,
   "id": "b3fa8c22-d40a-4ea1-9a68-1d1071c3a8f6",
   "metadata": {},
   "outputs": [],
   "source": [
    "from IPython.display import IFrame  \n",
    "  \n",
    "# 设置网页的URL和显示大小  \n",
    "url = \"http://127.0.0.1:5000\"  \n",
    "IFrame(url, width=800, height=600)  \n"
   ]
  }
 ],
 "metadata": {
  "kernelspec": {
   "display_name": "Python 3 (ipykernel)",
   "language": "python",
   "name": "python3"
  },
  "language_info": {
   "codemirror_mode": {
    "name": "ipython",
    "version": 3
   },
   "file_extension": ".py",
   "mimetype": "text/x-python",
   "name": "python",
   "nbconvert_exporter": "python",
   "pygments_lexer": "ipython3",
   "version": "3.11.9"
  }
 },
 "nbformat": 4,
 "nbformat_minor": 5
}
